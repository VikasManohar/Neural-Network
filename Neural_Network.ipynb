{
  "nbformat": 4,
  "nbformat_minor": 0,
  "metadata": {
    "colab": {
      "name": "Neural Network.ipynb",
      "version": "0.3.2",
      "provenance": [],
      "include_colab_link": true
    },
    "kernelspec": {
      "name": "python3",
      "display_name": "Python 3"
    }
  },
  "cells": [
    {
      "cell_type": "markdown",
      "metadata": {
        "id": "view-in-github",
        "colab_type": "text"
      },
      "source": [
        "<a href=\"https://colab.research.google.com/github/VikasManohar/Neural-Network/blob/master/Neural_Network.ipynb\" target=\"_parent\"><img src=\"https://colab.research.google.com/assets/colab-badge.svg\" alt=\"Open In Colab\"/></a>"
      ]
    },
    {
      "metadata": {
        "id": "0CDY6PoZFId9",
        "colab_type": "code",
        "colab": {}
      },
      "cell_type": "code",
      "source": [
        "import numpy as np\n",
        "\n",
        "#Input array\n",
        "X=np.array([[1,0,1,0],[1,0,1,1],[0,1,0,1]])\n",
        "\n",
        "#Output\n",
        "y=np.array([[1],[1],[0]])"
      ],
      "execution_count": 0,
      "outputs": []
    },
    {
      "metadata": {
        "id": "jnAquPdKFYIv",
        "colab_type": "code",
        "colab": {}
      },
      "cell_type": "code",
      "source": [
        "#Sigmoid Function\n",
        "def sigmoid(x):\n",
        "  return 1/(1 + np.exp(-x))"
      ],
      "execution_count": 0,
      "outputs": []
    },
    {
      "metadata": {
        "id": "DKdfiwByFpg1",
        "colab_type": "code",
        "colab": {}
      },
      "cell_type": "code",
      "source": [
        "#Derivative of Sigmoid Function\n",
        "def derivatives_sigmoid(x):\n",
        "  return x * (1 - x)"
      ],
      "execution_count": 0,
      "outputs": []
    },
    {
      "metadata": {
        "id": "qcuQUcfAF6_4",
        "colab_type": "code",
        "colab": {}
      },
      "cell_type": "code",
      "source": [
        "#Variable initialization\n",
        "epoch=5000 #Setting training iterations\n",
        "lr=0.1 #Setting learning rate\n",
        "inputlayer_neurons = X.shape[1] #number of features in data set\n",
        "hiddenlayer_neurons = 3 #number of hidden layers neurons\n",
        "output_neurons = 1 #number of neurons at output layer"
      ],
      "execution_count": 0,
      "outputs": []
    },
    {
      "metadata": {
        "id": "DJ-Y0uTcGLcH",
        "colab_type": "code",
        "colab": {}
      },
      "cell_type": "code",
      "source": [
        "#weight and bias initialization\n",
        "wh=np.random.uniform(size=(inputlayer_neurons,hiddenlayer_neurons))\n",
        "bh=np.random.uniform(size=(1,hiddenlayer_neurons))\n",
        "wout=np.random.uniform(size=(hiddenlayer_neurons,output_neurons))\n",
        "bout=np.random.uniform(size=(1,output_neurons))"
      ],
      "execution_count": 0,
      "outputs": []
    },
    {
      "metadata": {
        "id": "fyy2cKDBGdmT",
        "colab_type": "code",
        "colab": {}
      },
      "cell_type": "code",
      "source": [
        "for i in range(epoch):\n",
        "  #Forward Propagation\n",
        "  hidden_layer_input = np.dot(X,wh) + bh\n",
        "  hiddenlayer_activations = sigmoid(hidden_layer_input)\n",
        "  output_layer_input = np.dot(hiddenlayer_activations,wout) + wout\n",
        "  output = sigmoid(output_layer_input)\n",
        "  \n",
        "  #BackPropagation\n",
        "  E = y - output\n",
        "  slope_output_layer = output * (1 - output)\n",
        "  slope_hidden_layer = hiddenlayer_activations * (1 - hiddenlayer_activations)\n",
        "  d_output = E * slope_output_layer\n",
        "  Error_at_hidden_layer = d_output.dot(wout.T)\n",
        "  d_hiddenlayer = Error_at_hidden_layer * slope_hidden_layer\n",
        "  wout += hiddenlayer_activations.T.dot(d_output) *lr\n",
        "  bout += np.sum(d_output, axis=0,keepdims=True) *lr\n",
        "  wh += X.T.dot(d_hiddenlayer) *lr\n",
        "  bh += np.sum(d_hiddenlayer, axis=0,keepdims=True) *lr"
      ],
      "execution_count": 0,
      "outputs": []
    },
    {
      "metadata": {
        "id": "bVHLPwUkLelX",
        "colab_type": "code",
        "colab": {
          "base_uri": "https://localhost:8080/",
          "height": 68
        },
        "outputId": "6ceff8c5-6643-4266-e945-451d274e7b4c"
      },
      "cell_type": "code",
      "source": [
        "print(output)"
      ],
      "execution_count": 7,
      "outputs": [
        {
          "output_type": "stream",
          "text": [
            "[[0.99999728]\n",
            " [0.94766643]\n",
            " [0.04826331]]\n"
          ],
          "name": "stdout"
        }
      ]
    }
  ]
}